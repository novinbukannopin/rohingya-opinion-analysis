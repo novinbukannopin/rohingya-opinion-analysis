{
 "cells": [
  {
   "cell_type": "code",
   "execution_count": null,
   "outputs": [],
   "source": [],
   "metadata": {
    "collapsed": false
   },
   "id": "d7011c2bf08cd1c4"
  },
  {
   "cell_type": "code",
   "execution_count": 34,
   "outputs": [
    {
     "data": {
      "text/plain": "                         created_at               id_str  \\\n0    Fri Dec 08 16:43:34 +0000 2023  1733165434038599891   \n1    Fri Dec 08 16:43:27 +0000 2023  1733165402505773192   \n2    Fri Dec 08 16:43:16 +0000 2023  1733165356804636745   \n3    Fri Dec 08 16:43:14 +0000 2023  1733165351003963591   \n4    Fri Dec 08 16:43:07 +0000 2023  1733165319739621391   \n..                              ...                  ...   \n696  Fri Dec 08 14:31:41 +0000 2023  1733132242132812122   \n697  Fri Dec 08 14:31:16 +0000 2023  1733132139615707193   \n698  Fri Dec 08 14:31:09 +0000 2023  1733132107105570969   \n699  Fri Dec 08 14:31:08 +0000 2023  1733132104266063959   \n700  Fri Dec 08 14:30:55 +0000 2023  1733132049765273998   \n\n                                             full_text  quote_count  \\\n0    @Muhammad_nsyam @NongCiapChay @nisaswiftie13 @...            0   \n1    Sejarah kelam orde baru yg nampaknya terulang ...            0   \n2    Rohingya itu lama-lama bisa memberontak pada n...            0   \n3    @callmeyuuuuu @munlightshdw @herricahyadi yg b...            0   \n4    @Heraloebss Terlepas akun fake atau apalah. Te...            0   \n..                                                 ...          ...   \n696  Rohingya #TheGameAwards Guru #127มาแล้วคับจารย...            0   \n697  Baca sentimen2 hari2 ini soal etnis Rohingya k...            0   \n698  @thalasophilees @neohistoria_id @m_marshel set...            0   \n699  @lsngmyslf12 wkwk lucuu emg bener ada ko disku...            0   \n700  @sosmedkeras Mau demonisasi pengungsi Rohingya...            0   \n\n     reply_count  retweet_count  favorite_count lang          user_id_str  \\\n0              0              0               0   in           4756018272   \n1              0              0               0   in   950948688691576835   \n2              0              0               0   in  1534907323407208448   \n3              0              0               0   in  1536947530813952000   \n4              0              0               0   in           3003955086   \n..           ...            ...             ...  ...                  ...   \n696            0              0               0   in  1322542259191963649   \n697            2              2               9   in            183124089   \n698            0              0               0   in  1625364578958983170   \n699            1              0               0   in  1674465115377397760   \n700            0              0               0   in  1304457180414840832   \n\n     conversation_id_str        username  \\\n0    1733010793137098803         tkbubut   \n1    1733165402505773192     Chandra0233   \n2    1733165356804636745       cccvp9097   \n3    1732728577358233807    Leonidas666_   \n4    1733118126311854274  yock_sukaryono   \n..                   ...             ...   \n696  1733132242132812122     langityang7   \n697  1733132139615707193       mmaryasir   \n698  1733028831932629243       fyfyafiya   \n699  1733118293282840647         retakya   \n700  1733107898736361894       nowodjati   \n\n                                             tweet_url  \n0    https://twitter.com/tkbubut/status/17331654340...  \n1    https://twitter.com/Chandra0233/status/1733165...  \n2    https://twitter.com/cccvp9097/status/173316535...  \n3    https://twitter.com/Leonidas666_/status/173316...  \n4    https://twitter.com/yock_sukaryono/status/1733...  \n..                                                 ...  \n696  https://twitter.com/langityang7/status/1733132...  \n697  https://twitter.com/mmaryasir/status/173313213...  \n698  https://twitter.com/fyfyafiya/status/173313210...  \n699  https://twitter.com/retakya/status/17331321042...  \n700  https://twitter.com/nowodjati/status/173313204...  \n\n[701 rows x 12 columns]",
      "text/html": "<div>\n<style scoped>\n    .dataframe tbody tr th:only-of-type {\n        vertical-align: middle;\n    }\n\n    .dataframe tbody tr th {\n        vertical-align: top;\n    }\n\n    .dataframe thead th {\n        text-align: right;\n    }\n</style>\n<table border=\"1\" class=\"dataframe\">\n  <thead>\n    <tr style=\"text-align: right;\">\n      <th></th>\n      <th>created_at</th>\n      <th>id_str</th>\n      <th>full_text</th>\n      <th>quote_count</th>\n      <th>reply_count</th>\n      <th>retweet_count</th>\n      <th>favorite_count</th>\n      <th>lang</th>\n      <th>user_id_str</th>\n      <th>conversation_id_str</th>\n      <th>username</th>\n      <th>tweet_url</th>\n    </tr>\n  </thead>\n  <tbody>\n    <tr>\n      <th>0</th>\n      <td>Fri Dec 08 16:43:34 +0000 2023</td>\n      <td>1733165434038599891</td>\n      <td>@Muhammad_nsyam @NongCiapChay @nisaswiftie13 @...</td>\n      <td>0</td>\n      <td>0</td>\n      <td>0</td>\n      <td>0</td>\n      <td>in</td>\n      <td>4756018272</td>\n      <td>1733010793137098803</td>\n      <td>tkbubut</td>\n      <td>https://twitter.com/tkbubut/status/17331654340...</td>\n    </tr>\n    <tr>\n      <th>1</th>\n      <td>Fri Dec 08 16:43:27 +0000 2023</td>\n      <td>1733165402505773192</td>\n      <td>Sejarah kelam orde baru yg nampaknya terulang ...</td>\n      <td>0</td>\n      <td>0</td>\n      <td>0</td>\n      <td>0</td>\n      <td>in</td>\n      <td>950948688691576835</td>\n      <td>1733165402505773192</td>\n      <td>Chandra0233</td>\n      <td>https://twitter.com/Chandra0233/status/1733165...</td>\n    </tr>\n    <tr>\n      <th>2</th>\n      <td>Fri Dec 08 16:43:16 +0000 2023</td>\n      <td>1733165356804636745</td>\n      <td>Rohingya itu lama-lama bisa memberontak pada n...</td>\n      <td>0</td>\n      <td>0</td>\n      <td>0</td>\n      <td>0</td>\n      <td>in</td>\n      <td>1534907323407208448</td>\n      <td>1733165356804636745</td>\n      <td>cccvp9097</td>\n      <td>https://twitter.com/cccvp9097/status/173316535...</td>\n    </tr>\n    <tr>\n      <th>3</th>\n      <td>Fri Dec 08 16:43:14 +0000 2023</td>\n      <td>1733165351003963591</td>\n      <td>@callmeyuuuuu @munlightshdw @herricahyadi yg b...</td>\n      <td>0</td>\n      <td>0</td>\n      <td>0</td>\n      <td>0</td>\n      <td>in</td>\n      <td>1536947530813952000</td>\n      <td>1732728577358233807</td>\n      <td>Leonidas666_</td>\n      <td>https://twitter.com/Leonidas666_/status/173316...</td>\n    </tr>\n    <tr>\n      <th>4</th>\n      <td>Fri Dec 08 16:43:07 +0000 2023</td>\n      <td>1733165319739621391</td>\n      <td>@Heraloebss Terlepas akun fake atau apalah. Te...</td>\n      <td>0</td>\n      <td>0</td>\n      <td>0</td>\n      <td>0</td>\n      <td>in</td>\n      <td>3003955086</td>\n      <td>1733118126311854274</td>\n      <td>yock_sukaryono</td>\n      <td>https://twitter.com/yock_sukaryono/status/1733...</td>\n    </tr>\n    <tr>\n      <th>...</th>\n      <td>...</td>\n      <td>...</td>\n      <td>...</td>\n      <td>...</td>\n      <td>...</td>\n      <td>...</td>\n      <td>...</td>\n      <td>...</td>\n      <td>...</td>\n      <td>...</td>\n      <td>...</td>\n      <td>...</td>\n    </tr>\n    <tr>\n      <th>696</th>\n      <td>Fri Dec 08 14:31:41 +0000 2023</td>\n      <td>1733132242132812122</td>\n      <td>Rohingya #TheGameAwards Guru #127มาแล้วคับจารย...</td>\n      <td>0</td>\n      <td>0</td>\n      <td>0</td>\n      <td>0</td>\n      <td>in</td>\n      <td>1322542259191963649</td>\n      <td>1733132242132812122</td>\n      <td>langityang7</td>\n      <td>https://twitter.com/langityang7/status/1733132...</td>\n    </tr>\n    <tr>\n      <th>697</th>\n      <td>Fri Dec 08 14:31:16 +0000 2023</td>\n      <td>1733132139615707193</td>\n      <td>Baca sentimen2 hari2 ini soal etnis Rohingya k...</td>\n      <td>0</td>\n      <td>2</td>\n      <td>2</td>\n      <td>9</td>\n      <td>in</td>\n      <td>183124089</td>\n      <td>1733132139615707193</td>\n      <td>mmaryasir</td>\n      <td>https://twitter.com/mmaryasir/status/173313213...</td>\n    </tr>\n    <tr>\n      <th>698</th>\n      <td>Fri Dec 08 14:31:09 +0000 2023</td>\n      <td>1733132107105570969</td>\n      <td>@thalasophilees @neohistoria_id @m_marshel set...</td>\n      <td>0</td>\n      <td>0</td>\n      <td>0</td>\n      <td>0</td>\n      <td>in</td>\n      <td>1625364578958983170</td>\n      <td>1733028831932629243</td>\n      <td>fyfyafiya</td>\n      <td>https://twitter.com/fyfyafiya/status/173313210...</td>\n    </tr>\n    <tr>\n      <th>699</th>\n      <td>Fri Dec 08 14:31:08 +0000 2023</td>\n      <td>1733132104266063959</td>\n      <td>@lsngmyslf12 wkwk lucuu emg bener ada ko disku...</td>\n      <td>0</td>\n      <td>1</td>\n      <td>0</td>\n      <td>0</td>\n      <td>in</td>\n      <td>1674465115377397760</td>\n      <td>1733118293282840647</td>\n      <td>retakya</td>\n      <td>https://twitter.com/retakya/status/17331321042...</td>\n    </tr>\n    <tr>\n      <th>700</th>\n      <td>Fri Dec 08 14:30:55 +0000 2023</td>\n      <td>1733132049765273998</td>\n      <td>@sosmedkeras Mau demonisasi pengungsi Rohingya...</td>\n      <td>0</td>\n      <td>0</td>\n      <td>0</td>\n      <td>0</td>\n      <td>in</td>\n      <td>1304457180414840832</td>\n      <td>1733107898736361894</td>\n      <td>nowodjati</td>\n      <td>https://twitter.com/nowodjati/status/173313204...</td>\n    </tr>\n  </tbody>\n</table>\n<p>701 rows × 12 columns</p>\n</div>"
     },
     "metadata": {},
     "output_type": "display_data"
    }
   ],
   "source": [
    "import pandas as pd\n",
    "\n",
    "# Specify the path to your CSV file\n",
    "file_path = f\"rohingya.csv\"\n",
    "\n",
    "# Read the CSV file into a pandas DataFrame\n",
    "df = pd.read_csv(file_path, delimiter=\";\")\n",
    "\n",
    "# Display the DataFrame\n",
    "display(df)"
   ],
   "metadata": {
    "collapsed": false,
    "ExecuteTime": {
     "end_time": "2023-12-08T16:53:03.559752500Z",
     "start_time": "2023-12-08T16:53:03.067479500Z"
    }
   },
   "id": "feff3f3fa9d0b9e0"
  }
 ],
 "metadata": {
  "kernelspec": {
   "display_name": "Python 3",
   "language": "python",
   "name": "python3"
  },
  "language_info": {
   "codemirror_mode": {
    "name": "ipython",
    "version": 2
   },
   "file_extension": ".py",
   "mimetype": "text/x-python",
   "name": "python",
   "nbconvert_exporter": "python",
   "pygments_lexer": "ipython2",
   "version": "2.7.6"
  }
 },
 "nbformat": 4,
 "nbformat_minor": 5
}
